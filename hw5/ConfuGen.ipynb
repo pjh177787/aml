{
 "cells": [
  {
   "cell_type": "code",
   "execution_count": 1,
   "metadata": {},
   "outputs": [],
   "source": [
    "%reload_ext autoreload\n",
    "%autoreload 2\n",
    "from hw5_funct import *\n",
    "from sklearn.model_selection import train_test_split\n",
    "from sklearn.ensemble import RandomForestClassifier\n",
    "from sklearn.neighbors import KNeighborsClassifier\n",
    "from sklearn.metrics import confusion_matrix\n",
    "from numba import jit, autojit\n",
    "import multiprocessing\n",
    "from itertools import repeat\n",
    "\n",
    "X_data, Y_data, activities = get_data('./data/')"
   ]
  },
  {
   "cell_type": "code",
   "execution_count": 2,
   "metadata": {},
   "outputs": [],
   "source": [
    "@autojit\n",
    "def get_accuracy_basic(window, K, X_data, Y_data):\n",
    "    rfscores = []\n",
    "    conf_mats = np.zeros((14, 14))\n",
    "    for i in range(10):\n",
    "        X_train, X_test, Y_train, Y_test = train_test_split(X_data, Y_data, test_size=0.2, stratify=Y_data)\n",
    "        vq_dict = get_vq_dict(X_train, window, K)\n",
    "        X_train_VQ = vec_quantize_signals(X_train, vq_dict)\n",
    "        X_test_VQ = vec_quantize_signals(X_test, vq_dict)\n",
    "        rf = RandomForestClassifier(n_estimators=100, max_depth=50)\n",
    "        rf.fit(X_train_VQ, Y_train)\n",
    "        rfscore = rf.score(X_test_VQ,Y_test)\n",
    "        rfscores.append(rfscore)\n",
    "        Y_pred = rf.predict(X_test_VQ)\n",
    "        conf_mats = np.add(conf_mats, confusion_matrix(Y_test,Y_pred))\n",
    "    return np.mean(rfscores), conf_mats"
   ]
  },
  {
   "cell_type": "code",
   "execution_count": 3,
   "metadata": {},
   "outputs": [
    {
     "name": "stdout",
     "output_type": "stream",
     "text": [
      "27, 400, 0.79762\n",
      "[[ 20.   0.   0.   0.   0.   0.   0.   0.   0.   0.   0.   0.   0.   0.]\n",
      " [  0. 162.   0.   3.   8.   0.   0.   0.   0.   4.   2.   2.   1.  20.]\n",
      " [  0.   0.  56.   0.   4.   0.   0.   0.   0.   0.   0.   0.   0.   0.]\n",
      " [  0.  15.   0.  63.   0.   0.   0.   0.   0.   0.   0.   2.   0.   0.]\n",
      " [  0.   0.   0.   0. 194.   0.   0.   0.   0.   5.   0.   0.   1.   0.]\n",
      " [  0.   0.   0.   0.   1.   9.   0.   0.   0.   0.   0.   0.   0.   0.]\n",
      " [  0.   0.   0.   0.   0.   0.   0.   0.   0.  10.   0.   0.   0.   0.]\n",
      " [  0.   1.   0.   0.  10.   0.   0. 149.   0.   9.   7.  23.   0.   1.]\n",
      " [  0.   0.   2.   0.   4.   0.   0.  29.   0.   4.  18.   2.   0.   1.]\n",
      " [  0.   0.   0.   0.   4.   0.   0.   0.   0. 192.   3.   1.   0.   0.]\n",
      " [  0.   0.   0.   0.   1.   0.   0.   5.   0.   5. 150.  39.   0.   0.]\n",
      " [  0.   1.   0.   0.   0.   0.   0.   8.   0.   0.  47. 152.   0.   0.]\n",
      " [  0.   0.   1.   0.   7.   0.   0.   1.   0.   3.   5.   0.  13.   0.]\n",
      " [  0.  11.   0.   0.   0.   0.   0.   2.   0.   1.   4.   2.   0. 180.]]\n"
     ]
    }
   ],
   "source": [
    "window = 3*9\n",
    "kvs = [400]\n",
    "for K in kvs:\n",
    "    rfscore, conf_mats = get_accuracy_basic(window, K, X_data, Y_data)\n",
    "    print('%d, %d, %.5f' % (window, K, rfscore))\n",
    "    print(conf_mats)"
   ]
  },
  {
   "cell_type": "code",
   "execution_count": 4,
   "metadata": {},
   "outputs": [
    {
     "name": "stdout",
     "output_type": "stream",
     "text": [
      "['Brush_teeth', 'Climb_stairs', 'Comb_hair', 'Descend_stairs', 'Drink_glass', 'Eat_meat', 'Eat_soup', 'Getup_bed', 'Liedown_bed', 'Pour_water', 'Sitdown_chair', 'Standup_chair', 'Use_telephone', 'Walk']\n"
     ]
    }
   ],
   "source": [
    "print(activities)"
   ]
  },
  {
   "cell_type": "code",
   "execution_count": null,
   "metadata": {},
   "outputs": [],
   "source": []
  }
 ],
 "metadata": {
  "kernelspec": {
   "display_name": "Python 3",
   "language": "python",
   "name": "python3"
  },
  "language_info": {
   "codemirror_mode": {
    "name": "ipython",
    "version": 3
   },
   "file_extension": ".py",
   "mimetype": "text/x-python",
   "name": "python",
   "nbconvert_exporter": "python",
   "pygments_lexer": "ipython3",
   "version": "3.6.5"
  }
 },
 "nbformat": 4,
 "nbformat_minor": 2
}
