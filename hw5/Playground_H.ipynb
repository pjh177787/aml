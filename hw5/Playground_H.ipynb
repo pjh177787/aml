{
 "cells": [
  {
   "cell_type": "markdown",
   "metadata": {},
   "source": [
    "# TESTTESTTESTTESTTESTTESTTESTTESTTESTTEST"
   ]
  },
  {
   "cell_type": "code",
   "execution_count": null,
   "metadata": {},
   "outputs": [],
   "source": [
    "%reload_ext autoreload\n",
    "%autoreload 2\n",
    "from hw5_funct import *\n",
    "from sklearn.model_selection import train_test_split\n",
    "from sklearn.ensemble import RandomForestClassifier\n",
    "from sklearn.neighbors import KNeighborsClassifier\n",
    "from numba import jit, autojit\n",
    "import multiprocessing\n",
    "from itertools import repeat\n",
    "\n",
    "X_data, Y_data, activities = get_data('./data/')"
   ]
  },
  {
   "cell_type": "code",
   "execution_count": null,
   "metadata": {},
   "outputs": [],
   "source": [
    "@autojit\n",
    "def get_accuracy_hierarchical(window, K_0, K_1, X_data, Y_data):\n",
    "    rfscores = []\n",
    "    for i in range(10):\n",
    "        X_train, X_test, Y_train, Y_test = train_test_split(X_data, Y_data, test_size=0.2, stratify=Y_data)\n",
    "        vq_dict = get_vq_dict_hierarchical(X_train, window, K_0, K_1, 100)\n",
    "        X_train_VQ = vec_quantize_signals(X_train, vq_dict)\n",
    "        X_test_VQ = vec_quantize_signals(X_test, vq_dict)\n",
    "        rf = RandomForestClassifier(n_estimators=100, max_depth=50)\n",
    "        rf.fit(X_train_VQ, Y_train)\n",
    "        rfscore = rf.score(X_test_VQ,Y_test)\n",
    "        rfscores.append(rfscore)\n",
    "    return np.mean(rfscores)"
   ]
  },
  {
   "cell_type": "code",
   "execution_count": null,
   "metadata": {
    "scrolled": false
   },
   "outputs": [],
   "source": [
    "%%time\n",
    "windows = [3*9]\n",
    "kvs = [(40, 12), (12, 40), (20, 25), (25, 20)]\n",
    "for window in windows:\n",
    "    for (K_0, K_1) in kvs:\n",
    "        rfscore = get_accuracy_hierarchical(window, K_0, K_1, X_data, Y_data)\n",
    "        print('%d, %d, %d, %.5f' % (window, K_0, K_1, rfscore))"
   ]
  },
  {
   "cell_type": "code",
   "execution_count": null,
   "metadata": {},
   "outputs": [],
   "source": []
  }
 ],
 "metadata": {
  "kernelspec": {
   "display_name": "Python 3",
   "language": "python",
   "name": "python3"
  },
  "language_info": {
   "codemirror_mode": {
    "name": "ipython",
    "version": 3
   },
   "file_extension": ".py",
   "mimetype": "text/x-python",
   "name": "python",
   "nbconvert_exporter": "python",
   "pygments_lexer": "ipython3",
   "version": "3.6.5"
  }
 },
 "nbformat": 4,
 "nbformat_minor": 2
}
