{
 "cells": [
  {
   "cell_type": "markdown",
   "metadata": {},
   "source": [
    "# Homework 5: Due 16 Oct 2017 23h59 (Mon; midnight)\n",
    "\n",
    "You may do this homework in groups of up to three\n",
    "\n",
    "This homework is very much like an experiment. Here's what we're looking for in the submission report:\n",
    "\n",
    "Page 1: Table listing the experiments carried out with the following columns.\n",
    "\n",
    " Size of the fixed length sample    Overlap (0-X%)    K- value    Classifier    Accuracy\n",
    "We expect you to have tried at least 2 values of K and at least 2 different lengths of the windows for quantization.\n",
    "NOTE: For K-means please also list if you used standard K-means or hierarchical\n",
    "NOTE: For classification, please mention what your test-train split is and how you created the test-train split.\n",
    "  \n",
    "Page 2:\n",
    "1. Histograms of the mean quantized vector (Histogram of cluster centres like in the book) for each activity with the K value that gives you the highest accuracy. (Please state the K value)\n",
    "2. Class confusion matrix from the classifier that you used. Please make sure to label the row/columns of the matrix so that we know which row corresponds to what.\n",
    "   \n",
    "Page 3: Code snippets (few lines) highlighting the following:\n",
    "  1. segmentation of the vector\n",
    "  2. k-means\n",
    "  3. generating the histogram\n",
    "  4. classification\n",
    "  \n",
    "2. Page 4 and beyond:\n",
    "  1. Any relevant code screenshot\n",
    "  \n",
    "We will also be awarding extra points for in-depth experimentation and analysis.\n",
    "   \n",
    "What we're mostly looking for is if how likely are we to be able to replicate the results following the steps you took. So, things you should look for are patterns in the confusion matrix between activities which are similar. Explaining your results in a few lines would thus be very useful. These page restrictions are not _STRICT_ in the sense that you can have an experiments table that flows into two pages if you did a lot of experiments, in such cases please make sure to mark both the pages for that question while uploading.\n",
    "    \n",
    "Really sorry again for the long delay in posting the instructions. If there are any issues that this causes please let us know and we will try to alleviate them.\n",
    "\n",
    "## Problem 1\n",
    "You may use any programming language that amuses you for this homework.\n",
    "\n",
    "Do problem 9.4 in the 18-Sep version of the textbook."
   ]
  },
  {
   "cell_type": "markdown",
   "metadata": {},
   "source": [
    "## Import functions, dataset"
   ]
  },
  {
   "cell_type": "code",
   "execution_count": 1,
   "metadata": {},
   "outputs": [],
   "source": [
    "%reload_ext autoreload\n",
    "%autoreload 2\n",
    "from hw5_funct import *\n",
    "X_data, Y_data, activities = get_data('./data/')"
   ]
  },
  {
   "cell_type": "markdown",
   "metadata": {},
   "source": [
    "## Test train split"
   ]
  },
  {
   "cell_type": "code",
   "execution_count": 2,
   "metadata": {},
   "outputs": [],
   "source": [
    "from sklearn.model_selection import train_test_split\n",
    "\n",
    "# Remember to stratify by labels.\n",
    "X_train, X_test, Y_train, Y_test = train_test_split(X_data, Y_data, test_size=0.2, stratify=Y_data)"
   ]
  },
  {
   "cell_type": "markdown",
   "metadata": {},
   "source": [
    "## Part (a)\n",
    "\n",
    "Build a classifier that classifies sequences into one of the 14 activities provided.\n",
    "To make features, you should vector quantize, then use a histogram\n",
    "of cluster centers (as described in the subsection; this gives a pretty explicit\n",
    "set of steps to follow). You will find it helpful to use hierarchical\n",
    "k-means to vector quantize. You may use whatever multi-class classifier\n",
    "you wish, though I’d start with R’s decision forest, because it’s easy to\n",
    "use and effective. You should report (a) the total error rate and (b) the\n",
    "class confusion matrix of your classifier."
   ]
  },
  {
   "cell_type": "markdown",
   "metadata": {},
   "source": [
    "## Vector Quantization"
   ]
  },
  {
   "cell_type": "code",
   "execution_count": 13,
   "metadata": {},
   "outputs": [],
   "source": [
    "# Adjust window and K here. Window should be some multiple of 3.\n",
    "window = 3*9\n",
    "K = 400\n",
    "\n",
    "# Get VQ dictionary from training dataset.\n",
    "vq_dict = get_vq_dict(X_train, window, K)\n",
    "\n",
    "# Apply VQ to training and test dataset.\n",
    "X_train_VQ = vec_quantize_signals(X_train, vq_dict)\n",
    "X_test_VQ = vec_quantize_signals(X_test, vq_dict)"
   ]
  },
  {
   "cell_type": "markdown",
   "metadata": {},
   "source": [
    "## TODO: Plot per-class histograms."
   ]
  },
  {
   "cell_type": "code",
   "execution_count": 15,
   "metadata": {
    "scrolled": false
   },
   "outputs": [],
   "source": [
    "import matplotlib.pyplot as plt\n",
    "\n",
    "vqs = []\n",
    "for i in range(len(activities)):\n",
    "    vqs.append([])\n",
    "\n",
    "for i in range(len(X_train_VQ)):\n",
    "    label = Y_train[i]\n",
    "    vqs[label].append(X_train_VQ[i])\n",
    "        \n",
    "for i in range(len(activities)):\n",
    "    plot = np.mean(vqs[i], axis = 0)\n",
    "    plt.figure()\n",
    "    plt.ylim([0, 0.2])\n",
    "    plt.bar(range(K), plot)\n",
    "    title = activities[i]\n",
    "    plt.title(title)\n",
    "#     plt.show()\n",
    "    filename = \"./hist/%s.png\" %(title)\n",
    "    plt.savefig(filename)\n",
    "    plt.close('all')\n"
   ]
  },
  {
   "cell_type": "markdown",
   "metadata": {},
   "source": [
    "## Classification"
   ]
  },
  {
   "cell_type": "markdown",
   "metadata": {},
   "source": [
    "## Classify with Random Forest"
   ]
  },
  {
   "cell_type": "code",
   "execution_count": null,
   "metadata": {},
   "outputs": [],
   "source": [
    "from sklearn.ensemble import RandomForestClassifier\n",
    "from sklearn.metrics import confusion_matrix\n",
    "\n",
    "rf = RandomForestClassifier(n_estimators=100, max_depth=50)\n",
    "rf.fit(X_train_VQ, Y_train)\n",
    "\n",
    "# Print accuracy.\n",
    "print(rf.score(X_test_VQ,Y_test))\n",
    "\n",
    "# Print class confusion matrix.\n",
    "Y_pred = rf.predict(X_test_VQ)\n",
    "print(confusion_matrix(Y_test,Y_pred))"
   ]
  },
  {
   "cell_type": "markdown",
   "metadata": {},
   "source": [
    "## Classify with kNN"
   ]
  },
  {
   "cell_type": "code",
   "execution_count": null,
   "metadata": {},
   "outputs": [],
   "source": [
    "from sklearn.neighbors import KNeighborsClassifier\n",
    "from sklearn.metrics import confusion_matrix\n",
    "\n",
    "knn = KNeighborsClassifier(n_neighbors=1)\n",
    "knn.fit(X_train_VQ, Y_train)\n",
    "\n",
    "# Print accuracy.\n",
    "print(knn.score(X_test_VQ,Y_test))\n",
    "\n",
    "# Print class confusion matrix.\n",
    "Y_pred = knn.predict(X_test_VQ)\n",
    "print(confusion_matrix(Y_test,Y_pred).shape)"
   ]
  },
  {
   "cell_type": "markdown",
   "metadata": {},
   "source": [
    "## Part (b)\n",
    "\n",
    "Now see if you can improve your classifier by (a) modifying the number\n",
    "of cluster centers in your hierarchical k-means and (b) modifying the size\n",
    "of the fixed length samples that you use."
   ]
  },
  {
   "cell_type": "markdown",
   "metadata": {},
   "source": [
    "## Vector Quantization with overlapping window"
   ]
  },
  {
   "cell_type": "code",
   "execution_count": 7,
   "metadata": {},
   "outputs": [],
   "source": [
    "# Adjust window and K here. Window should be some multiple of 3.\n",
    "window = 3*9\n",
    "K = 40\n",
    "overlap = 0.3\n",
    "\n",
    "# Get VQ dictionary from training dataset.\n",
    "vq_dict = get_vq_dict_overlap(X_train, window, K, overlap)\n",
    "\n",
    "# Apply VQ to training and test dataset.\n",
    "X_train_VQ = vec_quantize_signals(X_train, vq_dict)\n",
    "X_test_VQ = vec_quantize_signals(X_test, vq_dict)"
   ]
  },
  {
   "cell_type": "markdown",
   "metadata": {},
   "source": [
    "## Classification"
   ]
  },
  {
   "cell_type": "markdown",
   "metadata": {},
   "source": [
    "## Classify with Random Forest"
   ]
  },
  {
   "cell_type": "code",
   "execution_count": 8,
   "metadata": {},
   "outputs": [
    {
     "name": "stdout",
     "output_type": "stream",
     "text": [
      "0.7261904761904762\n",
      "[[ 1  0  0  0  0  0  0  0  0  1  0  0  0  0]\n",
      " [ 0 12  0  2  0  0  0  0  0  0  0  1  0  5]\n",
      " [ 0  0  3  0  1  0  0  1  0  1  0  0  0  0]\n",
      " [ 0  2  0  4  0  0  0  0  0  0  0  1  0  1]\n",
      " [ 0  0  0  0 17  0  0  1  0  2  0  0  0  0]\n",
      " [ 0  0  0  0  0  1  0  0  0  0  0  0  0  0]\n",
      " [ 0  0  0  0  1  0  0  0  0  0  0  0  0  0]\n",
      " [ 0  0  0  0  0  0  0 16  0  0  3  1  0  0]\n",
      " [ 0  0  0  0  0  0  0  1  1  0  4  0  0  0]\n",
      " [ 0  0  0  0  0  0  0  0  0 20  0  0  0  0]\n",
      " [ 0  0  1  0  0  0  0  0  0  0 16  3  0  0]\n",
      " [ 0  0  0  0  0  0  0  1  0  0  4 16  0  0]\n",
      " [ 0  0  0  0  3  0  0  0  0  0  0  0  0  0]\n",
      " [ 0  2  0  1  0  0  0  2  0  0  0  0  0 15]]\n"
     ]
    }
   ],
   "source": [
    "from sklearn.ensemble import RandomForestClassifier\n",
    "from sklearn.metrics import confusion_matrix\n",
    "\n",
    "rf = RandomForestClassifier(n_estimators=100, max_depth=50)\n",
    "rf.fit(X_train_VQ, Y_train)\n",
    "\n",
    "# Print accuracy.\n",
    "print(rf.score(X_test_VQ,Y_test))\n",
    "\n",
    "# Print class confusion matrix.\n",
    "Y_pred = rf.predict(X_test_VQ)\n",
    "print(confusion_matrix(Y_test,Y_pred))"
   ]
  },
  {
   "cell_type": "markdown",
   "metadata": {},
   "source": [
    "## Vector Quantization with hierachical k-means"
   ]
  },
  {
   "cell_type": "code",
   "execution_count": 29,
   "metadata": {},
   "outputs": [],
   "source": [
    "# Adjust window and K here. Window should be some multiple of 3.\n",
    "window = 3*32\n",
    "K_0 = 40\n",
    "K_1 = 10\n",
    "sample = 50\n",
    "\n",
    "# Get VQ dictionary from training dataset.\n",
    "vq_dict = get_vq_dict_hierarchical(X_train, window, K_0, K_1, sample)\n",
    "\n",
    "# Apply VQ to training and test dataset.\n",
    "X_train_VQ = vec_quantize_signals(X_train, vq_dict)\n",
    "X_test_VQ = vec_quantize_signals(X_test, vq_dict)"
   ]
  },
  {
   "cell_type": "markdown",
   "metadata": {},
   "source": [
    "## TODO: Plot per-class histograms."
   ]
  },
  {
   "cell_type": "code",
   "execution_count": 30,
   "metadata": {
    "scrolled": false
   },
   "outputs": [],
   "source": [
    "import matplotlib.pyplot as plt\n",
    "\n",
    "vqs = []\n",
    "for i in range(len(activities)):\n",
    "    vqs.append([])\n",
    "\n",
    "for i in range(len(X_train_VQ)):\n",
    "    label = Y_train[i]\n",
    "    vqs[label].append(X_train_VQ[i])\n",
    "        \n",
    "for i in range(len(activities)):\n",
    "    plot = np.mean(vqs[i], axis = 0)\n",
    "    plt.figure()\n",
    "    plt.ylim([0, 0.2])\n",
    "    plt.bar(range(len(plot)), plot)\n",
    "    title = activities[i]\n",
    "    plt.title(title)\n",
    "#     plt.show()\n",
    "    filename = \"./hist/%s.png\" %(title)\n",
    "    plt.savefig(filename)\n",
    "    plt.close('all')\n"
   ]
  },
  {
   "cell_type": "markdown",
   "metadata": {},
   "source": [
    "## Classification"
   ]
  },
  {
   "cell_type": "markdown",
   "metadata": {},
   "source": [
    "## Classify with Random Forest"
   ]
  },
  {
   "cell_type": "code",
   "execution_count": 10,
   "metadata": {},
   "outputs": [
    {
     "name": "stdout",
     "output_type": "stream",
     "text": [
      "0.7857142857142857\n",
      "[[ 2  0  0  0  0  0  0  0  0  0  0  0  0  0]\n",
      " [ 0 16  0  0  0  0  0  0  0  0  0  0  0  4]\n",
      " [ 0  0  6  0  0  0  0  0  0  0  0  0  0  0]\n",
      " [ 0  1  0  7  0  0  0  0  0  0  0  0  0  0]\n",
      " [ 0  0  0  0 18  0  0  0  0  2  0  0  0  0]\n",
      " [ 0  0  0  0  0  1  0  0  0  0  0  0  0  0]\n",
      " [ 0  0  0  0  0  0  0  0  0  1  0  0  0  0]\n",
      " [ 0  0  0  0  0  0  0 13  0  0  1  6  0  0]\n",
      " [ 0  0  0  0  0  0  0  2  0  1  3  0  0  0]\n",
      " [ 0  0  0  0  0  0  0  0  0 20  0  0  0  0]\n",
      " [ 0  0  0  0  1  0  0  3  0  2 10  4  0  0]\n",
      " [ 0  0  0  0  0  0  0  1  0  0  1 19  0  0]\n",
      " [ 0  0  0  0  2  0  0  0  0  0  0  0  1  0]\n",
      " [ 0  1  0  0  0  0  0  0  0  0  0  0  0 19]]\n",
      "['Brush_teeth', 'Climb_stairs', 'Comb_hair', 'Descend_stairs', 'Drink_glass', 'Eat_meat', 'Eat_soup', 'Getup_bed', 'Liedown_bed', 'Pour_water', 'Sitdown_chair', 'Standup_chair', 'Use_telephone', 'Walk']\n"
     ]
    }
   ],
   "source": [
    "from sklearn.ensemble import RandomForestClassifier\n",
    "from sklearn.metrics import confusion_matrix\n",
    "\n",
    "rf = RandomForestClassifier(n_estimators=100, max_depth=50)\n",
    "rf.fit(X_train_VQ, Y_train)\n",
    "\n",
    "# Print accuracy.\n",
    "print(rf.score(X_test_VQ,Y_test))\n",
    "\n",
    "# Print class confusion matrix.\n",
    "Y_pred = rf.predict(X_test_VQ)\n",
    "print(confusion_matrix(Y_test,Y_pred))\n",
    "print(activities)"
   ]
  },
  {
   "cell_type": "code",
   "execution_count": null,
   "metadata": {},
   "outputs": [],
   "source": []
  },
  {
   "cell_type": "code",
   "execution_count": null,
   "metadata": {},
   "outputs": [],
   "source": []
  }
 ],
 "metadata": {
  "kernelspec": {
   "display_name": "Python 3",
   "language": "python",
   "name": "python3"
  },
  "language_info": {
   "codemirror_mode": {
    "name": "ipython",
    "version": 3
   },
   "file_extension": ".py",
   "mimetype": "text/x-python",
   "name": "python",
   "nbconvert_exporter": "python",
   "pygments_lexer": "ipython3",
   "version": "3.6.5"
  },
  "varInspector": {
   "cols": {
    "lenName": 16,
    "lenType": 16,
    "lenVar": 40
   },
   "kernels_config": {
    "python": {
     "delete_cmd_postfix": "",
     "delete_cmd_prefix": "del ",
     "library": "var_list.py",
     "varRefreshCmd": "print(var_dic_list())"
    },
    "r": {
     "delete_cmd_postfix": ") ",
     "delete_cmd_prefix": "rm(",
     "library": "var_list.r",
     "varRefreshCmd": "cat(var_dic_list()) "
    }
   },
   "types_to_exclude": [
    "module",
    "function",
    "builtin_function_or_method",
    "instance",
    "_Feature"
   ],
   "window_display": false
  }
 },
 "nbformat": 4,
 "nbformat_minor": 2
}
