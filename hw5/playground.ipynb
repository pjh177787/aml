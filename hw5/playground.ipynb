{
 "cells": [
  {
   "cell_type": "markdown",
   "metadata": {},
   "source": [
    "# TESTTESTTESTTESTTESTTESTTESTTESTTESTTEST"
   ]
  },
  {
   "cell_type": "code",
   "execution_count": null,
   "metadata": {},
   "outputs": [],
   "source": [
    "%reload_ext autoreload\n",
    "%autoreload 2\n",
    "from hw5_funct import *\n",
    "from sklearn.model_selection import train_test_split\n",
    "from sklearn.ensemble import RandomForestClassifier\n",
    "from sklearn.neighbors import KNeighborsClassifier\n",
    "from numba import jit, autojit\n",
    "import multiprocessing\n",
    "from itertools import repeat\n",
    "\n",
    "X_data, Y_data, activities = get_data('./data/')"
   ]
  },
  {
   "cell_type": "code",
   "execution_count": null,
   "metadata": {},
   "outputs": [],
   "source": [
    "@autojit\n",
    "def get_accuracy_basic(window, K, X_data, Y_data):\n",
    "    rfscores = []\n",
    "    knnscores = []\n",
    "    for i in range(10):\n",
    "        X_train, X_test, Y_train, Y_test = train_test_split(X_data, Y_data, test_size=0.2, stratify=Y_data)\n",
    "        vq_dict = get_vq_dict(X_train, window, K)\n",
    "        X_train_VQ = vec_quantize_signals(X_train, vq_dict)\n",
    "        X_test_VQ = vec_quantize_signals(X_test, vq_dict)\n",
    "        rf = RandomForestClassifier(n_estimators=100, max_depth=50)\n",
    "        rf.fit(X_train_VQ, Y_train)\n",
    "        rfscore = rf.score(X_test_VQ,Y_test)\n",
    "        rfscores.append(rfscore)\n",
    "        knn = KNeighborsClassifier(n_neighbors=1)\n",
    "        knn.fit(X_train_VQ, Y_train)\n",
    "        knnscore = knn.score(X_test_VQ,Y_test)\n",
    "        knnscores.append(knnscore)\n",
    "    return np.mean(rfscores), np.mean(knnscores)"
   ]
  },
  {
   "cell_type": "code",
   "execution_count": null,
   "metadata": {},
   "outputs": [],
   "source": [
    "%%time\n",
    "windows = [3*32]\n",
    "kvs = [25, 50, 100, 200, 400]\n",
    "for window in windows:\n",
    "    for K in kvs:\n",
    "        rfscore, knnscore = get_accuracy_basic(window, K, X_data, Y_data)\n",
    "        print('%d, %d, %.5f, %.5f' % (window, K, rfscore, knnscore))"
   ]
  },
  {
   "cell_type": "code",
   "execution_count": null,
   "metadata": {},
   "outputs": [],
   "source": []
  }
 ],
 "metadata": {
  "kernelspec": {
   "display_name": "Python 3",
   "language": "python",
   "name": "python3"
  },
  "language_info": {
   "codemirror_mode": {
    "name": "ipython",
    "version": 3
   },
   "file_extension": ".py",
   "mimetype": "text/x-python",
   "name": "python",
   "nbconvert_exporter": "python",
   "pygments_lexer": "ipython3",
   "version": "3.6.5"
  }
 },
 "nbformat": 4,
 "nbformat_minor": 2
}
