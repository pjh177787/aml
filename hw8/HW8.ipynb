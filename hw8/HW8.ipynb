{
 "cells": [
  {
   "cell_type": "markdown",
   "metadata": {},
   "source": [
    "# Image segmentation using EM\n",
    "\n",
    "You can segment an image using a clustering method - each segment is the cluster center to which a pixel belongs. In this exercise, you will represent an image pixel by its r, g, and b values (so use color images!). Use the EM algorithm applied to the mixture of normal distribution model lectured in class to cluster image pixels, then segment the image by mapping each pixel to the cluster center with the highest value of the posterior probability for that pixel. You must implement the EM algorithm yourself (rather than using a package). Test images are here, and you should display results for all three of them. Till then, use any color image you care to."
   ]
  },
  {
   "cell_type": "markdown",
   "metadata": {},
   "source": [
    "### Segment each of the test images to 10, 20, and 50 segments. \n",
    "\n",
    "You should display these segmented images as images, where each pixel's color is replaced with the mean color of the closest segment"
   ]
  },
  {
   "cell_type": "code",
   "execution_count": null,
   "metadata": {},
   "outputs": [],
   "source": [
    "import numpy as np\n",
    "import matplotlib.pyplot as plt\n",
    "%matplotlib inline"
   ]
  },
  {
   "cell_type": "code",
   "execution_count": null,
   "metadata": {},
   "outputs": [],
   "source": [
    "# Use this to read images as numpy arrays.\n",
    "import imageio\n",
    "\n",
    "# Splits the image into tiles of size (tile_rows, tile_cols), with periodic padding.\n",
    "def tile_image(tile_rows, tile_cols, row_overlap, col_overlap, im):\n",
    "    im_rows = im.shape[0]\n",
    "    im_cols = im.shape[1]\n",
    "    im_channels = im.shape[2]\n",
    "    \n",
    "    row_stride = (tile_rows - row_overlap)\n",
    "    n_tiles_row = int(np.ceil((im_rows - tile_rows)/row_stride) + 1)\n",
    "    im_padded_rows = (n_tiles_row - 1)*row_stride + tile_rows\n",
    "    col_stride = (tile_cols - col_overlap)\n",
    "    n_tiles_col = int(np.ceil((im_cols - tile_cols)/col_stride) + 1)\n",
    "    im_padded_cols = (n_tiles_col - 1)*col_stride + tile_cols\n",
    "    \n",
    "    pad_rows = im_padded_rows - im_rows\n",
    "    pad_cols = im_padded_cols - im_cols\n",
    "    im_padded = np.pad(im, ((0,pad_rows),(0,pad_cols),(0,0)), 'wrap')\n",
    "            \n",
    "    tiles = [im_padded[i*row_stride:i*row_stride+tile_rows,j*col_stride:j*col_stride+tile_cols,:] for i in range(n_tiles_row) for j in range (n_tiles_col)]\n",
    "    return tiles, n_tiles_row, n_tiles_col"
   ]
  },
  {
   "cell_type": "code",
   "execution_count": null,
   "metadata": {},
   "outputs": [],
   "source": []
  },
  {
   "cell_type": "markdown",
   "metadata": {},
   "source": [
    "We will identify one special test image. \n",
    "\n",
    "## You should segment this to 20 segments using five different start points, and display the result for each case. \n",
    "\n",
    "Is there much variation in the result? The test image is the painting of trees"
   ]
  },
  {
   "cell_type": "code",
   "execution_count": null,
   "metadata": {},
   "outputs": [],
   "source": []
  }
 ],
 "metadata": {
  "kernelspec": {
   "display_name": "Python 3",
   "language": "python",
   "name": "python3"
  },
  "language_info": {
   "codemirror_mode": {
    "name": "ipython",
    "version": 3
   },
   "file_extension": ".py",
   "mimetype": "text/x-python",
   "name": "python",
   "nbconvert_exporter": "python",
   "pygments_lexer": "ipython3",
   "version": "3.6.5"
  },
  "varInspector": {
   "cols": {
    "lenName": 16,
    "lenType": 16,
    "lenVar": 40
   },
   "kernels_config": {
    "python": {
     "delete_cmd_postfix": "",
     "delete_cmd_prefix": "del ",
     "library": "var_list.py",
     "varRefreshCmd": "print(var_dic_list())"
    },
    "r": {
     "delete_cmd_postfix": ") ",
     "delete_cmd_prefix": "rm(",
     "library": "var_list.r",
     "varRefreshCmd": "cat(var_dic_list()) "
    }
   },
   "types_to_exclude": [
    "module",
    "function",
    "builtin_function_or_method",
    "instance",
    "_Feature"
   ],
   "window_display": false
  }
 },
 "nbformat": 4,
 "nbformat_minor": 2
}
