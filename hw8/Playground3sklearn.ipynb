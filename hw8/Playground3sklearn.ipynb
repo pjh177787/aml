{
 "cells": [
  {
   "cell_type": "code",
   "execution_count": 14,
   "metadata": {},
   "outputs": [],
   "source": [
    "import numpy as np\n",
    "import matplotlib.pyplot as plt\n",
    "from sklearn.mixture import GaussianMixture\n",
    "from scipy.stats import multivariate_normal as mvn"
   ]
  },
  {
   "cell_type": "code",
   "execution_count": 15,
   "metadata": {},
   "outputs": [
    {
     "name": "stdout",
     "output_type": "stream",
     "text": [
      "(1000, 2)\n"
     ]
    }
   ],
   "source": [
    "np.random.seed(123)\n",
    "\n",
    "# create data set\n",
    "n = 1000\n",
    "k = 4\n",
    "_mus = np.array([[10,-14], [-20,-17], [23,1], [-13,12]])\n",
    "_sigmas = np.array([[[3, 0], [0, 0.5]], [[2, 0], [0, 1.5]], [[1.2, 0],[0, 1.7]], [[1,0],[0,2]]])\n",
    "_pis = np.array([0.2, 0.3, 0.2, 0.3])\n",
    "xs = np.concatenate([np.random.multivariate_normal(mu, sigma, int(pi*n))\n",
    "                    for pi, mu, sigma in zip(_pis, _mus, _sigmas)])\n",
    "print(xs.shape)\n",
    "# initial guesses for parameters\n",
    "pis = np.random.random(k)\n",
    "pis /= pis.sum()\n",
    "mus = np.random.random((k,2))\n",
    "sigmas = np.array([np.eye(2)] * k)\n",
    "# print(pis, mus, sigmas)"
   ]
  },
  {
   "cell_type": "code",
   "execution_count": 16,
   "metadata": {},
   "outputs": [
    {
     "name": "stdout",
     "output_type": "stream",
     "text": [
      "Wall time: 0 ns\n"
     ]
    }
   ],
   "source": [
    "%%time\n",
    "gmm = GaussianMixture(n_components = 4)\n",
    "gmm.fit(xs)"
   ]
  },
  {
   "cell_type": "code",
   "execution_count": 17,
   "metadata": {},
   "outputs": [
    {
     "name": "stdout",
     "output_type": "stream",
     "text": [
      "[[-12.91172082  11.89227768]\n",
      " [ 22.91629585   1.13063819]\n",
      " [-20.0891947  -16.99399097]\n",
      " [  9.9812725  -14.07054282]]\n",
      "[[[0.92826588 0.02017564]\n",
      "  [0.02017564 1.99088241]]\n",
      "\n",
      " [[0.99282444 0.00665384]\n",
      "  [0.00665384 1.42813975]]\n",
      "\n",
      " [[2.10155229 0.03118426]\n",
      "  [0.03118426 1.45573394]]\n",
      "\n",
      " [[2.93086966 0.01506207]\n",
      "  [0.01506207 0.49539104]]]\n"
     ]
    }
   ],
   "source": [
    "mus1 = gmm.means_\n",
    "sigmas1 = gmm.covariances_\n",
    "print(mus1)\n",
    "print(sigmas1)"
   ]
  },
  {
   "cell_type": "code",
   "execution_count": 18,
   "metadata": {},
   "outputs": [],
   "source": [
    "clusters = [[] for i in range(k)]\n",
    "for i in range(n):\n",
    "    maxlikelihood = 0\n",
    "    label = 0\n",
    "    for j in range(k):\n",
    "        likelihood = mvn(mus1[j], sigmas1[j]).pdf(xs[i])\n",
    "        if likelihood > maxlikelihood:\n",
    "            maxlikelihood = likelihood\n",
    "            label = j\n",
    "    clusters[label].append(xs[i])\n",
    "sct = []\n",
    "for i in range(len(clusters)):\n",
    "    sct.append(np.array(clusters[i]))"
   ]
  },
  {
   "cell_type": "code",
   "execution_count": 19,
   "metadata": {},
   "outputs": [
    {
     "data": {
      "image/png": "[encoded data removed]",
      "text/plain": [
       "<Figure size 432x288 with 1 Axes>"
      ]
     },
     "metadata": {},
     "output_type": "display_data"
    }
   ],
   "source": [
    "plt.scatter(sct[0][:, 0], sct[0][:, 1], c = 'red')\n",
    "plt.scatter(sct[1][:, 0], sct[1][:, 1], c = 'green')\n",
    "plt.scatter(sct[2][:, 0], sct[2][:, 1], c = 'blue')\n",
    "plt.scatter(sct[3][:, 0], sct[3][:, 1], c = 'yellow')\n",
    "plt.scatter(mus1[:, 0], mus1[:, 1], c = 'purple')\n",
    "plt.show()"
   ]
  },
  {
   "cell_type": "code",
   "execution_count": null,
   "metadata": {},
   "outputs": [],
   "source": [
    "np.random.seed(123)\n",
    "\n",
    "# create data set\n",
    "n = 1000\n",
    "k = 4\n",
    "_mus = np.array([[10,-14], [-20,-17], [23,1], [-13,12]])\n",
    "_sigmas = np.array([[[3, 0], [0, 0.5]], [[2, 0], [0, 1.5]], [[1.2, 0],[0, 1.7]], [[1,0],[0,2]]])\n",
    "_pis = np.array([0.2, 0.3, 0.2, 0.3])\n",
    "xs = np.concatenate([np.random.multivariate_normal(mu, sigma, int(pi*n))\n",
    "                    for pi, mu, sigma in zip(_pis, _mus, _sigmas)])\n",
    "print(xs.shape)\n",
    "# initial guesses for parameters\n",
    "pis = np.random.random(k)\n",
    "pis /= pis.sum()\n",
    "mus = np.random.random((k,2))\n",
    "sigmas = np.array([np.eye(2)] * k)\n",
    "# print(pis, mus, sigmas)\n",
    "\n",
    "%%time\n",
    "pis1, mus1, sigmas1 = em_gmm_orig(xs, pis, mus, sigmas)\n",
    "# print(ll1)\n",
    "print(pis)\n",
    "print(mus1)\n",
    "# print(sigmas)\n",
    "\n",
    "\n",
    "clusters = [[] for i in range(k)]\n",
    "for i in range(n):\n",
    "    maxlikelihood = 0\n",
    "    label = 0\n",
    "    for j in range(k):\n",
    "        likelihood = mvn(mus1[j], sigmas1[j]).pdf(xs[i])\n",
    "        if likelihood > maxlikelihood:\n",
    "            maxlikelihood = likelihood\n",
    "            label = j\n",
    "    clusters[label].append(xs[i])\n",
    "sct = []\n",
    "for i in range(len(clusters)):\n",
    "    sct.append(np.array(clusters[i]))\n",
    "\n",
    "plt.scatter(sct[0][:, 0], sct[0][:, 1], c = 'red')\n",
    "plt.scatter(sct[1][:, 0], sct[1][:, 1], c = 'green')\n",
    "plt.scatter(sct[2][:, 0], sct[2][:, 1], c = 'blue')\n",
    "plt.scatter(sct[3][:, 0], sct[3][:, 1], c = 'yellow')\n",
    "plt.scatter(mus1[:, 0], mus1[:, 1], c = 'purple')\n",
    "plt.show()"
   ]
  }
 ],
 "metadata": {
  "kernelspec": {
   "display_name": "Python 3",
   "language": "python",
   "name": "python3"
  },
  "language_info": {
   "codemirror_mode": {
    "name": "ipython",
    "version": 3
   },
   "file_extension": ".py",
   "mimetype": "text/x-python",
   "name": "python",
   "nbconvert_exporter": "python",
   "pygments_lexer": "ipython3",
   "version": "3.6.5"
  }
 },
 "nbformat": 4,
 "nbformat_minor": 2
}
