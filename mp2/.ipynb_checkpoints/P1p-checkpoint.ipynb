{
 "cells": [
  {
   "cell_type": "code",
   "execution_count": 1,
   "metadata": {},
   "outputs": [
    {
     "name": "stdout",
     "output_type": "stream",
     "text": [
      "(43958, 7)\n"
     ]
    }
   ],
   "source": [
    "import numpy as np\n",
    "import numpy.linalg as la\n",
    "import matplotlib.pyplot as plt\n",
    "import argparse\n",
    "from sklearn import preprocessing\n",
    "from sklearn.datasets.samples_generator import make_blobs\n",
    "\n",
    "train_file = open('train.data')\n",
    "test_file = open('test.data')\n",
    "\n",
    "epochs = 100\n",
    "steps = 300\n",
    "\n",
    "d_train = []\n",
    "d_label = []\n",
    "train_file.seek(0)\n",
    "for line in train_file:\n",
    "    line = line.rstrip('\\n')\n",
    "    lc = line.split(', ')\n",
    "    line_l = [lc[0], lc[2], lc[4], lc[10], lc[11], lc[12]]\n",
    "    d_train.append(line_l)\n",
    "    if (lc[14] == '<=50K'):\n",
    "        d_label.append(-1)\n",
    "    else:\n",
    "        d_label.append(1)\n",
    "d_train = preprocessing.scale(d_train)\n",
    "d_train = np.c_[d_train, d_label]\n",
    "    \n",
    "d_test = []\n",
    "test_file.seek(0)\n",
    "for line in test_file:\n",
    "    line = line.rstrip('\\n')\n",
    "    lc = line.split(',')\n",
    "    line_l = [lc[0], lc[2], lc[4], lc[10], lc[11], lc[12]]\n",
    "    d_test.append(line_l)\n",
    "d_test = preprocessing.scale(d_test)\n",
    "\n",
    "d_train = np.array(d_train, dtype = float)\n",
    "d_test = np.array(d_test, dtype = float)\n",
    "\n",
    "print(d_train.shape)"
   ]
  },
  {
   "cell_type": "code",
   "execution_count": 2,
   "metadata": {},
   "outputs": [
    {
     "name": "stdout",
     "output_type": "stream",
     "text": [
      "Start training... Alpha = 0.5000\n",
      "Training epoch 0 ...\n",
      "Training epoch 1 ...\n"
     ]
    },
    {
     "ename": "KeyboardInterrupt",
     "evalue": "",
     "output_type": "error",
     "traceback": [
      "\u001b[1;31m---------------------------------------------------------------------------\u001b[0m",
      "\u001b[1;31mKeyboardInterrupt\u001b[0m                         Traceback (most recent call last)",
      "\u001b[1;32m<ipython-input-2-6cfca1c078c6>\u001b[0m in \u001b[0;36m<module>\u001b[1;34m()\u001b[0m\n\u001b[0;32m     29\u001b[0m             \u001b[0mstep_loss\u001b[0m \u001b[1;33m=\u001b[0m \u001b[1;36m0\u001b[0m\u001b[1;33m\u001b[0m\u001b[0m\n\u001b[0;32m     30\u001b[0m             \u001b[1;32mfor\u001b[0m \u001b[0mrow\u001b[0m \u001b[1;32min\u001b[0m \u001b[0me_train\u001b[0m\u001b[1;33m:\u001b[0m\u001b[1;33m\u001b[0m\u001b[0m\n\u001b[1;32m---> 31\u001b[1;33m                 \u001b[0mpred\u001b[0m \u001b[1;33m=\u001b[0m \u001b[0mweight\u001b[0m\u001b[1;33m.\u001b[0m\u001b[0mdot\u001b[0m\u001b[1;33m(\u001b[0m\u001b[0mrow\u001b[0m\u001b[1;33m[\u001b[0m\u001b[1;36m0\u001b[0m\u001b[1;33m:\u001b[0m\u001b[1;36m6\u001b[0m\u001b[1;33m]\u001b[0m\u001b[1;33m)\u001b[0m \u001b[1;33m+\u001b[0m \u001b[0mbias\u001b[0m\u001b[1;33m\u001b[0m\u001b[0m\n\u001b[0m\u001b[0;32m     32\u001b[0m                 \u001b[0mloss\u001b[0m \u001b[1;33m=\u001b[0m \u001b[0mmax\u001b[0m\u001b[1;33m(\u001b[0m\u001b[1;36m0\u001b[0m\u001b[1;33m,\u001b[0m \u001b[1;36m1\u001b[0m \u001b[1;33m-\u001b[0m \u001b[0mrow\u001b[0m\u001b[1;33m[\u001b[0m\u001b[1;36m6\u001b[0m\u001b[1;33m]\u001b[0m\u001b[1;33m*\u001b[0m\u001b[0mpred\u001b[0m\u001b[1;33m)\u001b[0m\u001b[1;33m\u001b[0m\u001b[0m\n\u001b[0;32m     33\u001b[0m                 \u001b[0mstep_loss\u001b[0m \u001b[1;33m+=\u001b[0m \u001b[0mloss\u001b[0m\u001b[1;33m\u001b[0m\u001b[0m\n",
      "\u001b[1;31mKeyboardInterrupt\u001b[0m: "
     ]
    }
   ],
   "source": [
    "# lrs = [0.5, 0.25, 0.1, 0.05, 0.025, 0.01, 0.005, 0.0025, 0.001]\n",
    "lrs = [0.5, 0.1, 0.01, 0.001]\n",
    "lam = 0.1\n",
    "weights = []\n",
    "bias = 1\n",
    "\n",
    "for miu in lrs:\n",
    "    print('Start training... Alpha = %.4f' % miu)\n",
    "    \n",
    "    weight = np.random.uniform(size = len(d_train[0]) - 1)\n",
    "    \n",
    "    epoch_loss_hist = []\n",
    "    step_loss_hist = []\n",
    "    mag_hist = []\n",
    "    epoch_count = 0\n",
    "    for epoch in range(epochs):\n",
    "        print('Training epoch', epoch, '...')\n",
    "#         if (epoch%10 == 0):\n",
    "#             curr_mag = la.norm(weight)\n",
    "#             if (epoch > 30 and (curr_mag - prev_mag) < 0.001):\n",
    "#                 break\n",
    "#             prev_mag = curr_mag\n",
    "        np.random.shuffle(d_train)\n",
    "        e_train = d_train[50:, :]\n",
    "        e_val = d_train[0:50, :]\n",
    "        \n",
    "        epoch_loss = []\n",
    "        for step in range(steps):\n",
    "            step_loss = 0\n",
    "            for row in e_train:\n",
    "                pred = weight.dot(row[0:6]) + bias\n",
    "                loss = max(0, 1 - row[6]*pred)\n",
    "                step_loss += loss\n",
    "                if (row[6]*pred >= 1):\n",
    "                    weight = (1 - miu*lam)*weight\n",
    "                else:\n",
    "                    weight = (1 - miu*lam)*weight + miu*row[6]*row[0:6]\n",
    "                    bias = bias + miu*row[6]\n",
    "            if (step%30 == 0):\n",
    "                epoch_loss.append(step_loss)\n",
    "                step_loss_hist.append(step_loss)\n",
    "                mag_hist.append(la.norm(weight, 2))\n",
    "        if (epoch%10 == 1):\n",
    "            epoch_loss_hist.append(np.mean(epoch_loss))\n",
    "        epoch_count += 1\n",
    "    \n",
    "    fig = plt.figure()\n",
    "    plt.plot(np.arange(0, epoch_count), epoch_loss_hist)\n",
    "    fig.suptitle('Training Loss Alpha = %.4f' % miu)\n",
    "    plt.xlabel(\"Epoch #\")\n",
    "    plt.ylabel(\"Loss\")\n",
    "    plt.show()\n",
    "    fig = plt.figure()\n",
    "    plt.plot(np.arange(0, len(step_loss_hist)), step_loss_hist)\n",
    "    fig.suptitle('Training Loss Alpha = %.4f' % miu)\n",
    "    plt.xlabel(\"Steps #\")\n",
    "    plt.ylabel(\"Loss\")\n",
    "    plt.show()\n",
    "    fig = plt.figure()\n",
    "    plt.plot(np.arange(0, len(mag_hist)), mag_hist)\n",
    "    fig.suptitle('Magnitude of Weight Alpha = %.4f' % miu)\n",
    "    plt.xlabel(\"Steps #\")\n",
    "    plt.ylabel(\"Magnitude\")\n",
    "    plt.show()\n",
    "    \n"
   ]
  },
  {
   "cell_type": "code",
   "execution_count": null,
   "metadata": {},
   "outputs": [],
   "source": []
  },
  {
   "cell_type": "code",
   "execution_count": null,
   "metadata": {},
   "outputs": [],
   "source": []
  },
  {
   "cell_type": "code",
   "execution_count": null,
   "metadata": {},
   "outputs": [],
   "source": [
    "preds_test = activation(d_test.dot(weights[0]))\n",
    "print(preds_test)"
   ]
  },
  {
   "cell_type": "code",
   "execution_count": null,
   "metadata": {},
   "outputs": [],
   "source": [
    "import csv\n",
    "res = [['Example', 'Label']]\n",
    "ct = 0\n",
    "with open('weight3.txt', 'w') as f_weight:\n",
    "    for item in weights:\n",
    "        f_weight.write(\"%s\\n\" % item)\n",
    "for lb in preds_test:\n",
    "    row = []\n",
    "    row.append(\"'%s'\" %ct)\n",
    "    if (lb < 0):\n",
    "        row.append('<=50K')\n",
    "    else:\n",
    "        row.append('>50K')\n",
    "    res.append(row)\n",
    "    ct += 1\n",
    "with open(\"output3.csv\",'w', newline='') as resultFile:\n",
    "    wr = csv.writer(resultFile)\n",
    "    wr.writerows(res)"
   ]
  }
 ],
 "metadata": {
  "kernelspec": {
   "display_name": "Python 3",
   "language": "python",
   "name": "python3"
  },
  "language_info": {
   "codemirror_mode": {
    "name": "ipython",
    "version": 3
   },
   "file_extension": ".py",
   "mimetype": "text/x-python",
   "name": "python",
   "nbconvert_exporter": "python",
   "pygments_lexer": "ipython3",
   "version": "3.6.5"
  }
 },
 "nbformat": 4,
 "nbformat_minor": 2
}
