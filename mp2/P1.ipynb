{
 "cells": [
  {
   "cell_type": "code",
   "execution_count": 14,
   "metadata": {},
   "outputs": [],
   "source": [
    "import numpy as np\n",
    "train_file = open('train.data')\n",
    "test_file = open('test.data')"
   ]
  },
  {
   "cell_type": "code",
   "execution_count": 35,
   "metadata": {},
   "outputs": [],
   "source": [
    "d_train = []\n",
    "train_file.seek(0)\n",
    "for line in train_file:\n",
    "    line = line.rstrip('\\n')\n",
    "    line_curr = line.split(', ')\n",
    "    d_train.append(line_curr)\n",
    "    \n",
    "d_test = []\n",
    "test_file.seek(0)\n",
    "for line in test_file:\n",
    "    line = line.rstrip('\\n')\n",
    "    line_curr = line.split(',')\n",
    "    d_test.append(line_curr)"
   ]
  },
  {
   "cell_type": "code",
   "execution_count": 36,
   "metadata": {},
   "outputs": [
    {
     "name": "stdout",
     "output_type": "stream",
     "text": [
      "(43958, 15)\n",
      "(4884, 14)\n"
     ]
    }
   ],
   "source": [
    "train_arr = np.array(d_train, dtype = object)\n",
    "print(train_arr.shape)\n",
    "test_arr = np.array(d_test, dtype = object)\n",
    "print(test_arr.shape)"
   ]
  },
  {
   "cell_type": "code",
   "execution_count": 37,
   "metadata": {},
   "outputs": [
    {
     "name": "stdout",
     "output_type": "stream",
     "text": [
      "[['<=50K']\n",
      " ['<=50K']\n",
      " ['<=50K']\n",
      " ..., \n",
      " ['>50K']\n",
      " ['<=50K']\n",
      " ['<=50K']]\n"
     ]
    }
   ],
   "source": [
    "train_labels = train_arr[:, 14:15]\n",
    "print(train_labels)"
   ]
  },
  {
   "cell_type": "code",
   "execution_count": null,
   "metadata": {
    "collapsed": true
   },
   "outputs": [],
   "source": []
  }
 ],
 "metadata": {
  "kernelspec": {
   "display_name": "Python 3",
   "language": "python",
   "name": "python3"
  },
  "language_info": {
   "codemirror_mode": {
    "name": "ipython",
    "version": 3
   },
   "file_extension": ".py",
   "mimetype": "text/x-python",
   "name": "python",
   "nbconvert_exporter": "python",
   "pygments_lexer": "ipython3",
   "version": "3.6.3"
  }
 },
 "nbformat": 4,
 "nbformat_minor": 2
}
