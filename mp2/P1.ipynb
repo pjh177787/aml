{
 "cells": [
  {
   "cell_type": "code",
   "execution_count": 10,
   "metadata": {},
   "outputs": [],
   "source": [
    "import numpy as np\n",
    "import numpy.linalg as la\n",
    "import matplotlib.pyplot as plt\n",
    "import argparse\n",
    "from sklearn import preprocessing\n",
    "from sklearn.datasets.samples_generator import make_blobs\n",
    "\n",
    "train_file = open('train.data')\n",
    "test_file = open('test.data')\n",
    "\n",
    "epochs = 50\n",
    "steps = 300000"
   ]
  },
  {
   "cell_type": "code",
   "execution_count": 11,
   "metadata": {},
   "outputs": [],
   "source": [
    "d_train = []\n",
    "d_label = []\n",
    "train_file.seek(0)\n",
    "for line in train_file:\n",
    "    line = line.rstrip('\\n')\n",
    "    lc = line.split(', ')\n",
    "    line_l = [lc[0], lc[2], lc[4], lc[10], lc[11], lc[12]]\n",
    "    d_train.append(line_l)\n",
    "    if (lc[14] == '<=50K'):\n",
    "        d_label.append(0)\n",
    "    else:\n",
    "        d_label.append(1)\n",
    "d_train = preprocessing.scale(d_train)\n",
    "d_train = np.c_[d_train, d_label]\n",
    "    \n",
    "d_test = []\n",
    "test_file.seek(0)\n",
    "for line in test_file:\n",
    "    line = line.rstrip('\\n')\n",
    "    lc = line.split(',')\n",
    "    line_l = [lc[0], lc[2], lc[4], lc[10], lc[11], lc[12]]\n",
    "    d_test.append(line_l)\n",
    "d_test = preprocessing.scale(d_test)\n",
    "\n",
    "d_train = np.array(d_train, dtype = float)\n",
    "d_test = np.array(d_test, dtype = float)"
   ]
  },
  {
   "cell_type": "code",
   "execution_count": 12,
   "metadata": {},
   "outputs": [
    {
     "name": "stdout",
     "output_type": "stream",
     "text": [
      "(43958, 7)\n",
      "(4884, 6)\n"
     ]
    }
   ],
   "source": [
    "print(d_train.shape)\n",
    "print(d_test.shape)\n",
    "# print(d_train[0:10])\n",
    "# print(np.mean(d_train[:, 1:2]))"
   ]
  },
  {
   "cell_type": "code",
   "execution_count": 13,
   "metadata": {},
   "outputs": [],
   "source": [
    "def activation(x):\n",
    "    return 1.0/(1 + np.exp(-x))"
   ]
  },
  {
   "cell_type": "code",
   "execution_count": null,
   "metadata": {
    "scrolled": true
   },
   "outputs": [
    {
     "name": "stdout",
     "output_type": "stream",
     "text": [
      "Start training... Alpha = 1.0000\n",
      "Training epoch: 0 ~ 10 ...\n"
     ]
    }
   ],
   "source": [
    "lrs = [1, 0.1, 0.01, 0.001]\n",
    "# lrs = [0.5, 0.1]\n",
    "epoch_counts = []\n",
    "accuracy_plot = []\n",
    "magnitude_plot = []\n",
    "weights = []\n",
    "\n",
    "for learning_rate in lrs:\n",
    "    print('Start training... Alpha = %.4f' % learning_rate)\n",
    "    weight = np.random.uniform(size = (len(d_train[0]) - 1))\n",
    "    loss_history = []\n",
    "    step_accu_history = []\n",
    "    mag_history = []\n",
    "    prev_mag = 1\n",
    "    prev_loss = 1\n",
    "    epoch_count = 0\n",
    "    \n",
    "    for epoch in range(epochs):\n",
    "        if (epoch%10 == 0):\n",
    "            print('Training epoch:', epoch, '~', epoch + 10, '...')\n",
    "#             curr_mag = la.norm(weight)\n",
    "#             if (epoch > 30 and (curr_mag - prev_mag) < 0.001):\n",
    "#                 break\n",
    "#             prev_mag = curr_mag\n",
    "            \n",
    "        epoch_loss = []\n",
    "        np.random.shuffle(d_train)\n",
    "        e_train = d_train[50:, 0:6]\n",
    "        e_train_label = d_train[50:, 6:7].flatten()\n",
    "        e_val = d_train[0:50, 0:6]\n",
    "        e_val_label = d_train[0:50, 6:7].flatten()\n",
    "        \n",
    "        for step in range(steps):\n",
    "            preds = activation(e_train.dot(weight))\n",
    "            error = preds - e_train_label\n",
    "            loss = np.sum(error**2)/len(e_train_label)\n",
    "            epoch_loss.append(loss)\n",
    "            gradient = e_train.T.dot(error)/e_train.shape[0]\n",
    "            weight += -learning_rate*gradient\n",
    "            \n",
    "            if (step%30 == 0):\n",
    "                preds_side = activation(e_val.dot(weight))\n",
    "                error_side = abs(np.round(preds_side) - e_val_label)\n",
    "                step_accu_history.append(1 - sum(error_side)/50)\n",
    "                mag_history.append(la.norm(weight))\n",
    "                \n",
    "        epoch_count += 1\n",
    "        loss_history.append(np.mean(epoch_loss))\n",
    "    accuracy_plot.append(step_accu_history)\n",
    "    magnitude_plot.append(mag_history)\n",
    "        \n",
    "    epoch_counts.append(epoch_count)\n",
    "    weights.append(weight)\n",
    "    print('Traning Complete.')\n",
    "    \n",
    "    fig = plt.figure()\n",
    "    plt.plot(np.arange(0, len(loss_history)), loss_history)\n",
    "    fig.suptitle('Training Loss Alpha = %.4f' % learning_rate)\n",
    "    plt.xlabel(\"Epoch #\")\n",
    "    plt.ylabel(\"Loss\")\n",
    "    plt.show()\n",
    "    fig = plt.figure()\n",
    "    plt.plot(np.arange(0, len(step_accu_history)), step_accu_history)\n",
    "    fig.suptitle('Training Loss Alpha = %.4f' % learning_rate)\n",
    "    plt.xlabel(\"Steps #\")\n",
    "    plt.ylabel(\"Accuracy\")\n",
    "    plt.show()\n",
    "    fig = plt.figure()\n",
    "    plt.plot(np.arange(0, len(mag_history)), mag_history)\n",
    "    fig.suptitle('Magnitude of Weight Alpha = %.4f' % learning_rate)\n",
    "    plt.xlabel(\"Steps #\")\n",
    "    plt.ylabel(\"Magnitude\")\n",
    "    plt.show()\n",
    "    \n",
    "    \n",
    "    \n",
    "\n"
   ]
  },
  {
   "cell_type": "code",
   "execution_count": null,
   "metadata": {},
   "outputs": [],
   "source": [
    "print(len(accuracy_plot[1]), len(magnitude_plot[1]))\n",
    "fig = plt.figure()\n",
    "for i in range(4):\n",
    "    plt.plot(np.arange(0, len(accuracy_plot[i]))*30, accuracy_plot[i])\n",
    "fig.suptitle('Training Accuracy')\n",
    "plt.legend(['1', '1e-1', '1e-2', '1e-3'])\n",
    "plt.xlabel(\"Steps #\")\n",
    "plt.ylabel(\"Accuracy\")\n",
    "plt.show()\n",
    "fig = plt.figure()\n",
    "for i in range(4):\n",
    "    plt.plot(np.arange(0, len(magnitude_plot[i]))*30, magnitude_plot[i])\n",
    "fig.suptitle('Magnitude of Weight')\n",
    "plt.legend(['1', '1e-1', '1e-2', '1e-3'])\n",
    "plt.xlabel(\"Steps #\")\n",
    "plt.ylabel(\"Magnitude\")\n",
    "plt.show()"
   ]
  },
  {
   "cell_type": "code",
   "execution_count": null,
   "metadata": {},
   "outputs": [],
   "source": [
    "print(weights)\n",
    "with open('weight.txt', 'w') as f_weight:\n",
    "    for weight in weights:\n",
    "        for item in weight:\n",
    "            f_weight.write(\"%s,\" % item)\n",
    "        f_weight.write(\"\\n\")\n",
    "        "
   ]
  },
  {
   "cell_type": "code",
   "execution_count": 20,
   "metadata": {},
   "outputs": [],
   "source": [
    "weights_read = []\n",
    "with open('weight.txt', 'r') as f_weight:\n",
    "    for line in f_weight:\n",
    "        line = line.rstrip(',\\n')\n",
    "        lc = line.split(',')\n",
    "        weights_read.append(np.array(lc, dtype = float))\n",
    "\n",
    "weights_read = np.array(weights_read)\n",
    "preds_test = activation(d_test.dot(weights_read[0]))"
   ]
  },
  {
   "cell_type": "code",
   "execution_count": 21,
   "metadata": {},
   "outputs": [],
   "source": [
    "import csv\n",
    "res = [['Example', 'Label']]\n",
    "ct = 0\n",
    "\n",
    "for lb in preds_test:\n",
    "    row = []\n",
    "    row.append(\"'%s'\" %ct)\n",
    "    if (lb < 0.5):\n",
    "        row.append('<=50K')\n",
    "    else:\n",
    "        row.append('>50K')\n",
    "    res.append(row)\n",
    "    ct += 1\n",
    "with open(\"output3.csv\",'w', newline='') as resultFile:\n",
    "    wr = csv.writer(resultFile)\n",
    "    wr.writerows(res)"
   ]
  },
  {
   "cell_type": "code",
   "execution_count": 7,
   "metadata": {},
   "outputs": [
    {
     "data": {
      "image/png": "[encoded data removed]",
      "text/plain": [
       "<Figure size 432x288 with 1 Axes>"
      ]
     },
     "metadata": {},
     "output_type": "display_data"
    }
   ],
   "source": [
    "fig = plt.figure()\n",
    "x = np.linspace(-10,10,1000)\n",
    "plt.plot(x, 1.0/(1 + np.exp(-x)))\n",
    "\n",
    "plt.show()"
   ]
  },
  {
   "cell_type": "code",
   "execution_count": null,
   "metadata": {},
   "outputs": [],
   "source": []
  },
  {
   "cell_type": "code",
   "execution_count": null,
   "metadata": {},
   "outputs": [],
   "source": []
  },
  {
   "cell_type": "code",
   "execution_count": null,
   "metadata": {},
   "outputs": [],
   "source": []
  },
  {
   "cell_type": "code",
   "execution_count": null,
   "metadata": {},
   "outputs": [],
   "source": []
  }
 ],
 "metadata": {
  "kernelspec": {
   "display_name": "Python 3",
   "language": "python",
   "name": "python3"
  },
  "language_info": {
   "codemirror_mode": {
    "name": "ipython",
    "version": 3
   },
   "file_extension": ".py",
   "mimetype": "text/x-python",
   "name": "python",
   "nbconvert_exporter": "python",
   "pygments_lexer": "ipython3",
   "version": "3.6.5"
  }
 },
 "nbformat": 4,
 "nbformat_minor": 2
}
