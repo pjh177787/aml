{
 "cells": [
  {
   "cell_type": "code",
   "execution_count": 1,
   "metadata": {},
   "outputs": [],
   "source": [
    "import numpy as np\n",
    "import numpy.linalg as la\n",
    "import csv\n",
    "\n",
    "def read_file (filename):\n",
    "    mat = []\n",
    "    with open(filename, newline = '') as file:\n",
    "        csv_reader = csv.reader(file, delimiter=',', quotechar='|')\n",
    "        next(csv_reader)\n",
    "        for line in csv_reader:\n",
    "            row = []\n",
    "            for entry in line:\n",
    "                row.append(float(entry))\n",
    "            mat.append(row)\n",
    "    return np.matrix(mat)\n",
    "\n",
    "iris_0 = read_file('iris.csv')\n",
    "iris_1 = read_file('dataI.csv')\n",
    "iris_2 = read_file('dataII.csv')\n",
    "iris_3 = read_file('dataIII.csv')\n",
    "iris_4 = read_file('dataIV.csv')\n",
    "iris_5 = read_file('dataV.csv')"
   ]
  },
  {
   "cell_type": "code",
   "execution_count": 2,
   "metadata": {},
   "outputs": [],
   "source": [
    "mean_0 = np.mean(iris_0, axis = 0)\n",
    "mean_1 = np.mean(iris_1, axis = 0)\n",
    "mean_2 = np.mean(iris_2, axis = 0)\n",
    "mean_3 = np.mean(iris_3, axis = 0)\n",
    "mean_4 = np.mean(iris_4, axis = 0)\n",
    "cov_0 = np.cov(iris_0.T)\n",
    "cov_1 = np.cov(iris_1.T)\n",
    "cov_2 = np.cov(iris_2.T)\n",
    "cov_3 = np.cov(iris_3.T)\n",
    "cov_4 = np.cov(iris_4.T)\n",
    "u_0, s_0, v_0 = la.svd(iris_0, full_matrices=False)\n",
    "u_1, s_1, v_1 = la.svd(iris_1, full_matrices=False)\n",
    "u_2, s_2, v_2 = la.svd(iris_2, full_matrices=False)\n",
    "u_3, s_3, v_3 = la.svd(iris_3, full_matrices=False)\n",
    "u_4, s_4, v_4 = la.svd(iris_4, full_matrices=False)\n",
    "# np.allclose(iris_1, (u_1@np.diag(s_1)@v_1))\n",
    "# np.square(np.subtract(A, B)).mean()\n",
    "# u_1@np.diag(s_1)@v_1"
   ]
  },
  {
   "cell_type": "code",
   "execution_count": 35,
   "metadata": {},
   "outputs": [],
   "source": [
    "def get_mse (data1, data0):\n",
    "    mean_0 = np.mean(data0, axis = 0)\n",
    "    mean_1 = np.mean(data1, axis = 0)\n",
    "    cov_0 = np.cov(data0.T)\n",
    "    cov_1 = np.cov(data1.T)\n",
    "    u_0, s_0, v_0 = la.svd(data0, full_matrices=False)\n",
    "    u_1, s_1, v_1 = la.svd(data1, full_matrices=False)\n",
    "    pc_1 = np.diag(s_1[0:1])\n",
    "    pc_2 = np.diag(s_1[0:2])\n",
    "    pc_3 = np.diag(s_1[0:3])\n",
    "    pc_4 = np.diag(s_1)\n",
    "    rec_1 = u_1[:, 0:1]@pc_1@v_1[0:1, :]\n",
    "    rec_2 = u_1[:, 0:2]@pc_2@v_1[0:2, :]\n",
    "    rec_3 = u_1[:, 0:3]@pc_3@v_1[0:3, :]\n",
    "    rec_4 = u_1@pc_4@v_1\n",
    "    print(mean_1)\n",
    "    print(rec_1[0])\n",
    "    print(rec_2[0])\n",
    "    print(rec_3[0])\n",
    "    print(rec_4[0])\n",
    "    return"
   ]
  },
  {
   "cell_type": "code",
   "execution_count": 39,
   "metadata": {},
   "outputs": [
    {
     "name": "stdout",
     "output_type": "stream",
     "text": [
      "[[ 5.85888425  3.11245247  3.69687578  1.19210802]]\n",
      "[[ 4.06182314  2.09160276  2.71249999  0.89580891]]\n",
      "[[ 4.68201979  3.56042858  0.90945761  0.11374832]]\n",
      "[[ 5.10780805  3.0515821   0.73712117 -0.10695642]]\n",
      "[[ 5.20735014  2.97464067  0.45181162  0.4852577 ]]\n"
     ]
    }
   ],
   "source": [
    "get_mse(iris_2, iris_0)"
   ]
  },
  {
   "cell_type": "code",
   "execution_count": null,
   "metadata": {
    "collapsed": true
   },
   "outputs": [],
   "source": []
  }
 ],
 "metadata": {
  "kernelspec": {
   "display_name": "Python 3",
   "language": "python",
   "name": "python3"
  },
  "language_info": {
   "codemirror_mode": {
    "name": "ipython",
    "version": 3
   },
   "file_extension": ".py",
   "mimetype": "text/x-python",
   "name": "python",
   "nbconvert_exporter": "python",
   "pygments_lexer": "ipython3",
   "version": "3.6.3"
  }
 },
 "nbformat": 4,
 "nbformat_minor": 2
}
